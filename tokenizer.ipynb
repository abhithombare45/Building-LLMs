{
 "cells": [
  {
   "cell_type": "code",
   "execution_count": null,
   "id": "cd0593e7",
   "metadata": {
    "vscode": {
     "languageId": "plaintext"
    }
   },
   "outputs": [],
   "source": [
    "# Reading in a short story as text sample into Python."
   ]
  },
  {
   "cell_type": "code",
   "execution_count": null,
   "id": "dc64da1c",
   "metadata": {
    "vscode": {
     "languageId": "plaintext"
    }
   },
   "outputs": [],
   "source": []
  }
 ],
 "metadata": {
  "language_info": {
   "name": "python"
  }
 },
 "nbformat": 4,
 "nbformat_minor": 5
}
